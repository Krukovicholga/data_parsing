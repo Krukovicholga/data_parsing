{
 "cells": [
  {
   "cell_type": "code",
   "execution_count": 678,
   "metadata": {
    "scrolled": true
   },
   "outputs": [
    {
     "name": "stdout",
     "output_type": "stream",
     "text": [
      "[{'date': ' 15:09, 25 сентября 2020',\n",
      "  'link': 'https://lenta.ru/news/2020/09/25/riles/',\n",
      "  'name': 'Собянин объяснил меры по ситуации с коронавирусом в Москве'},\n",
      " {'date': ' 15:47, 25 сентября 2020',\n",
      "  'link': 'https://lenta.ru/news/2020/09/25/voda/',\n",
      "  'name': 'Власти Крыма нашли решение проблемы с водоснабжением'},\n",
      " {'date': ' 15:43, 25 сентября 2020',\n",
      "  'link': 'https://lenta.ru/news/2020/09/25/fold/',\n",
      "  'name': 'Смартфон Samsung за 180 тысяч рублей появился в России'},\n",
      " {'date': ' 15:38, 25 сентября 2020',\n",
      "  'link': 'https://lenta.ru/news/2020/09/25/france/',\n",
      "  'name': 'Вторая экономика Европы рекордно задолжала'},\n",
      " {'date': ' 15:38, 25 сентября 2020',\n",
      "  'link': 'https://lenta.ru/news/2020/09/25/bashnya/',\n",
      "  'name': 'Рабочие в Москве напали на депутата из-за исторической башни'},\n",
      " {'date': ' 15:36, 25 сентября 2020',\n",
      "  'link': 'https://moslenta.ru/news/moskvich-ugnal-mashinu-s-mladencem-i-zhenshinoi-v-salone-25-09-2020.htm/?utm_source=from_lenta',\n",
      "  'name': 'Москвич угнал машину с младенцем и женщиной в салоне '},\n",
      " {'date': ' 15:35, 25 сентября 2020',\n",
      "  'link': 'https://lenta.ru/news/2020/09/25/erl/',\n",
      "  'name': 'Умер поэт и прозаик Владимир Эрль'},\n",
      " {'date': ' 15:31, 25 сентября 2020',\n",
      "  'link': 'https://lenta.ru/news/2020/09/25/nobel/',\n",
      "  'name': 'На Нобелевскую премию мира выдвинули российскую уборщицу'},\n",
      " {'date': ' 15:30, 25 сентября 2020',\n",
      "  'link': 'https://lenta.ru/news/2020/09/25/joseobman/',\n",
      "  'name': 'Моуринью раскрыл обман перед матчем Лиги Европы в Северной '\n",
      "          'Македонии'},\n",
      " {'date': ' 15:24, 25 сентября 2020',\n",
      "  'link': 'https://lenta.ru/news/2020/09/25/fiasco/',\n",
      "  'name': 'Ракета С-400 «Триумф» упала возле российских военных на учениях'}]\n"
     ]
    }
   ],
   "source": [
    "from pprint import pprint\n",
    "from lxml import html\n",
    "import requests\n",
    "\n",
    "\n",
    "def lenta_news():\n",
    "\n",
    "    \n",
    "    headers = {'User-Agent': 'Mozilla/5.0 (Windows NT 6.3; Win64; x64) AppleWebKit/537.36 (KHTML, like Gecko)'\n",
    "                         ' Chrome/84.0.4147.135 Safari/537.36'}\n",
    "    main_link = 'https://lenta.ru'\n",
    "    response = requests.get(main_link, headers = headers)\n",
    "    dom = html.fromstring(response.text)\n",
    "    lenta_news = []\n",
    "    keys = ('name', 'date', 'link')\n",
    "\n",
    "    lenta_news_names = dom.xpath('''(//section[@class=\"row b-top7-for-main js-top-seven\"]//div[@class=\"first-item\"]/h2 | \n",
    "                                      //section[@class=\"row b-top7-for-main js-top-seven\"]//div[@class=\"item\"])/a/text()''')\n",
    "        \n",
    "    for news in lenta_news_names:\n",
    "        for i in range(len(lenta_news_names)):\n",
    "            lenta_news_names[i] = lenta_news_names[i].replace(u'\\xa0', u' ')\n",
    "  \n",
    "    dom.make_links_absolute(main_link)\n",
    "    lenta_news_links = dom.xpath('''(//section[@class=\"row b-top7-for-main js-top-seven\"]//div[@class=\"first-item\"]/h2 | \n",
    "                                    //section[@class=\"row b-top7-for-main js-top-seven\"]//div[@class=\"item\"])\n",
    "                                   //@href''')\n",
    "\n",
    "    dates = dom.xpath('''//div[@class=\"first-item\"]//time[@class=\"g-time\"]/@datetime |//div[@class=\"item\"]//time[@class=\"g-time\"]/@datetime''')\n",
    "\n",
    "    for item in list(zip(lenta_news_names, dates, lenta_news_links)):\n",
    "        news_dict = {}\n",
    "        for key, value in zip(keys, item):\n",
    "            news_dict[key] = value\n",
    "    \n",
    "        lenta_news.append(news_dict)\n",
    "    \n",
    "    pprint(lenta_news)\n",
    "    \n",
    "\n",
    "lenta_news()    \n"
   ]
  },
  {
   "cell_type": "code",
   "execution_count": null,
   "metadata": {},
   "outputs": [],
   "source": []
  },
  {
   "cell_type": "code",
   "execution_count": null,
   "metadata": {},
   "outputs": [],
   "source": []
  }
 ],
 "metadata": {
  "kernelspec": {
   "display_name": "Python 3",
   "language": "python",
   "name": "python3"
  },
  "language_info": {
   "codemirror_mode": {
    "name": "ipython",
    "version": 3
   },
   "file_extension": ".py",
   "mimetype": "text/x-python",
   "name": "python",
   "nbconvert_exporter": "python",
   "pygments_lexer": "ipython3",
   "version": "3.7.6"
  }
 },
 "nbformat": 4,
 "nbformat_minor": 4
}
