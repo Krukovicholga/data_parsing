{
 "cells": [
  {
   "cell_type": "code",
   "execution_count": 16,
   "metadata": {},
   "outputs": [
    {
     "name": "stdout",
     "output_type": "stream",
     "text": [
      "[{'date_time': '10:04',\n",
      "  'link': 'https://yandex.ru/news/story/Avstralijskij_student_dokazal_vozmozhnost_puteshestviya_vo_vremeni--2e15eacb79a9f391d84525e9842a66a1?lang=ru&rubric=science&wan=1&stid=S0Lt5sEJIy4UDrNspyf2&t=1601104373&persistent_id=113379416',\n",
      "  'name': 'Австралийский студент доказал возможность путешествия во времени',\n",
      "  'source': 'Evo-rus.com'},\n",
      " {'date_time': '10:09',\n",
      "  'link': 'https://yandex.ru/news/story/U_voron_vpervye_obnaruzhili_sposobnost_perezhivat_subektivnyj_opyt--59403f743cc09c30209c780d02e74422?lang=ru&rubric=science&wan=1&stid=J_zCy7KXAEa6fbYFWNj4&t=1601104373&persistent_id=113413913',\n",
      "  'name': 'У ворон впервые обнаружили способность переживать субъективный опыт',\n",
      "  'source': 'Discover24'},\n",
      " {'date_time': '10:04',\n",
      "  'link': 'https://yandex.ru/news/story/U_neandertalcev_byla_Y-khromosoma_ot_Homo_sapiens--52ca817ff05cff2ace08e79413c86ded?lang=ru&rubric=science&wan=1&stid=7qNJ4IamaRuNdoHd5X1g&t=1601104373&persistent_id=113398839',\n",
      "  'name': 'У неандертальцев была Y-хромосома от Homo sapiens',\n",
      "  'source': 'Discover24'},\n",
      " {'date_time': '10:06',\n",
      "  'link': 'https://yandex.ru/news/story/V_Kalifornii_sozdali_samyj_malenkij_kholodilnik_v_mire--3c53632ad32653487cdf883af73bc967?lang=ru&rubric=science&wan=1&stid=5Pw44ieQXqYiIm3d2XoY&t=1601104373&persistent_id=113247336',\n",
      "  'name': 'В Калифорнии создали самый маленький холодильник в мире',\n",
      "  'source': 'Замана'},\n",
      " {'date_time': '09:54',\n",
      "  'link': 'https://yandex.ru/news/story/Seksualnoe_vozbuzhdenie_cheloveka_povyshaet_uverennost_na_svidanii--3ddef40b12d2fdfe08b13ec02b5f413e?lang=ru&rubric=science&wan=1&stid=tDa1N6l00wosaw1IgVL9&t=1601104373&persistent_id=113285633',\n",
      "  'name': 'Сексуальное возбуждение человека повышает уверенность на свидании',\n",
      "  'source': 'Piter.tv'}]\n"
     ]
    }
   ],
   "source": [
    "from pprint import pprint\n",
    "from lxml import html\n",
    "import requests\n",
    "import datetime\n",
    "\n",
    "def yandex_news():\n",
    "    \n",
    "    \n",
    "    headers = {'User-Agent': 'Mozilla/5.0 (Windows NT 6.3; Win64; x64) AppleWebKit/537.36 (KHTML, like Gecko)'\n",
    "                                 ' Chrome/84.0.4147.135 Safari/537.36'}\n",
    "    main_link = 'https://yandex.ru/news/'\n",
    "    responce = requests.get(main_link, headers = headers)\n",
    "    dom = html.fromstring(responce.text)\n",
    "    news_block = dom.xpath(\"//article[contains(@class,'mg-card')]//a[contains(@href,'rubric=science')]\")\n",
    "    news_list = []\n",
    "    item_no = 0\n",
    "    for news in news_block:\n",
    "        yandex_news = {}\n",
    "        item_no += 1\n",
    "        if item_no % 3 == 1:\n",
    "            name = news.xpath(\".//h2[contains(@class,'news-card__title')]/text()\")[0]\n",
    "            link = news.xpath(\"./@href\")[0]\n",
    "            source = news.xpath(\"//span[contains(@class,'mg-card-source__source')]/a[contains(@href,'rubric=science')]/text()\")[(item_no // 3)]\n",
    "            date = news.xpath(\"//span[contains(@class,'mg-card-source__time')]/text()\")[(item_no // 3)]\n",
    "\n",
    "            yandex_news['name'] = name\n",
    "            yandex_news['link'] = link\n",
    "            yandex_news['date_time'] = date\n",
    "            yandex_news['source'] = source\n",
    "            news_list.append(yandex_news)\n",
    "    pprint(news_list)\n",
    "\n",
    "    \n",
    "yandex_news()      \n",
    "  "
   ]
  },
  {
   "cell_type": "code",
   "execution_count": null,
   "metadata": {},
   "outputs": [],
   "source": []
  },
  {
   "cell_type": "code",
   "execution_count": null,
   "metadata": {},
   "outputs": [],
   "source": []
  }
 ],
 "metadata": {
  "kernelspec": {
   "display_name": "Python 3",
   "language": "python",
   "name": "python3"
  },
  "language_info": {
   "codemirror_mode": {
    "name": "ipython",
    "version": 3
   },
   "file_extension": ".py",
   "mimetype": "text/x-python",
   "name": "python",
   "nbconvert_exporter": "python",
   "pygments_lexer": "ipython3",
   "version": "3.7.6"
  }
 },
 "nbformat": 4,
 "nbformat_minor": 4
}
